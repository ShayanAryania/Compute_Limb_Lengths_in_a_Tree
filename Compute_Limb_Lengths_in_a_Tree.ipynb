{
 "cells": [
  {
   "cell_type": "code",
   "execution_count": 1,
   "metadata": {},
   "outputs": [
    {
     "ename": "SyntaxError",
     "evalue": "invalid character '،' (U+060C) (1601510683.py, line 1)",
     "output_type": "error",
     "traceback": [
      "\u001b[0;36m  Cell \u001b[0;32mIn[1], line 1\u001b[0;36m\u001b[0m\n\u001b[0;31m    def Del(graph, current، next):\u001b[0m\n\u001b[0m                          ^\u001b[0m\n\u001b[0;31mSyntaxError\u001b[0m\u001b[0;31m:\u001b[0m invalid character '،' (U+060C)\n"
     ]
    }
   ],
   "source": [
    "def Del(graph, current، next):\n",
    "    for i, (neighbour, lenght) in enumerate(graph[current]):\n",
    "        if neighbour == next: break\n",
    "    \n",
    "    del graph[current[i]]\n",
    "\n",
    "    for i, (neighbour, lenght) in enumerate(graph[next]):\n",
    "        if neighbour == current: break\n",
    "    \n",
    "    del graph[current[i]]"
   ]
  },
  {
   "cell_type": "code",
   "execution_count": 22,
   "metadata": {},
   "outputs": [],
   "source": [
    "def Limb(matrix, n, m):\n",
    "\treturn min(matrix[i][m] + matrix[k][m] - matrix[i][k] \\\n",
    "\t\t\tfor i in range(n) for k in range(n) if i != m and k != m) // 2"
   ]
  },
  {
   "cell_type": "code",
   "execution_count": 23,
   "metadata": {},
   "outputs": [],
   "source": [
    "with open(\"/Users/shayanaryania/Desktop/University/Rosalind/Compute_Limb_Lengths_in_a_Tree/rosalind_ba7b.txt\") as File:\n",
    "    N = int(File.readline().strip())\n",
    "    Matrix = [list(map(int, File.readline().split())) for _ in range(N)]\n",
    "    Graph = Additive(Matrix, N)"
   ]
  },
  {
   "cell_type": "code",
   "execution_count": null,
   "metadata": {},
   "outputs": [],
   "source": []
  }
 ],
 "metadata": {
  "kernelspec": {
   "display_name": "Python 3",
   "language": "python",
   "name": "python3"
  },
  "language_info": {
   "codemirror_mode": {
    "name": "ipython",
    "version": 3
   },
   "file_extension": ".py",
   "mimetype": "text/x-python",
   "name": "python",
   "nbconvert_exporter": "python",
   "pygments_lexer": "ipython3",
   "version": "3.11.4"
  }
 },
 "nbformat": 4,
 "nbformat_minor": 2
}
